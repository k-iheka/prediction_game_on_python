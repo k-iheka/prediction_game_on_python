{
 "cells": [
  {
   "cell_type": "code",
   "execution_count": null,
   "id": "7cb810fd",
   "metadata": {},
   "outputs": [],
   "source": [
    "import random\n",
    "def gambling_time():\n",
    "    bet_num = random.randint(1,100)\n",
    "    name = input('what is your name: ')\n",
    "    age = int(input('how old are you?  '))\n",
    "    print(f'welcome {name}, This is a prediction game which allows you to choose nos from 1 to 100')\n",
    "\n",
    "    while True:\n",
    "        if age < 18:\n",
    "            print('you are not eligible to play because you are a minor')\n",
    "            break\n",
    "        prediction = input('what is your prediction number? or type \"quit\" to leave the game: ')\n",
    "        if prediction.lower() == 'quit':\n",
    "            print( f'{name} Thank you for coming. The correct number is {bet_num}.  Better luck next time')\n",
    "            break\n",
    "        if prediction.isdigit():\n",
    "            prediction = int(prediction)\n",
    "        else:\n",
    "            print(f'{name} kindly put a valid number from 1 to 100')\n",
    "        if prediction > bet_num:\n",
    "            print(f'{name} your prediction is higher than the correct answer. Please try again \\n')\n",
    "        elif prediction < bet_num:\n",
    "            print(f'{name} your prediction is less than the correct answer. Please try again \\n')\n",
    "        else:\n",
    "            print(f'CONGRATULATIONS {name}, you have won 5 Milloin pounds')\n",
    "            break\n",
    "        "
   ]
  }
 ],
 "metadata": {
  "kernelspec": {
   "display_name": "Python 3 (ipykernel)",
   "language": "python",
   "name": "python3"
  },
  "language_info": {
   "codemirror_mode": {
    "name": "ipython",
    "version": 3
   },
   "file_extension": ".py",
   "mimetype": "text/x-python",
   "name": "python",
   "nbconvert_exporter": "python",
   "pygments_lexer": "ipython3",
   "version": "3.11.5"
  }
 },
 "nbformat": 4,
 "nbformat_minor": 5
}
